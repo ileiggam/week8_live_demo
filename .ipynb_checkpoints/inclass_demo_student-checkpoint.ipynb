{
 "cells": [
  {
   "cell_type": "code",
   "execution_count": 1,
   "id": "a49241a4-0f25-4376-ac87-53d20c519c12",
   "metadata": {
    "tags": []
   },
   "outputs": [],
   "source": [
    "# Import relevant packages\n",
    "import numpy as np\n",
    "import pandas as pd\n",
    "import xarray as xr\n",
    "import matplotlib.pyplot as plt\n",
    "from datetime import datetime, timedelta"
   ]
  },
  {
   "cell_type": "markdown",
   "id": "0641e3f6-701c-46b6-b356-15f5b99498cc",
   "metadata": {
    "tags": []
   },
   "source": [
    "# **Detecting sea level rise from Florida tide gauge records**\n",
    "### Practice with Pandas time series analysis\n",
    "\n",
    "<!-- ![sea_level_rise.JPG](sea_level_rise.JPG) -->\n",
    "<img src=\"sea_level_rise.JPG\" width=\"1200px\"/>\n",
    "\n",
    "<div style=\"border: 2px solid teal; padding: 10px; background-color: #f0f8ff; margin-top: 10px;\">\n",
    "  <strong><font color='teal'>Exercise motivation and objectives: </font></strong><br><font color='black'>The historical tide gauge record from Key West, FL, spans over a century, but its current hourly resolution exhibits significant short-term fluctuations. This makes it difficult to detect longer-term patterns such as annual, interannual, or decadal variability. In this exercise, we will:\n",
    "  <ul>\n",
    "    <li>Practice smoothing time series data in pandas using <a href=\"https://pandas.pydata.org/pandas-docs/version/2.0/reference/api/pandas.Series.resample.html\" target=\"_blank\"><code>.resample()</code></a>, <a href=\"https://pandas.pydata.org/pandas-docs/version/2.0/reference/api/pandas.Series.rolling.html\" target=\"_blank\"><code>.rolling()</code></a>, and <a href=\"https://pandas.pydata.org/pandas-docs/version/2.0/reference/api/pandas.Series.groupby.html\" target=\"_blank\"><code>.groupby()</code></a>.</li>\n",
    "    <li>Identify advantages and limitations of each function, and discuss how to select the function most appropriate for your task.</li>\n",
    "    <li>If time: Practice adding error bars to a figure using matplotlib's <a href=\"https://matplotlib.org/3.7.1/api/_as_gen/matplotlib.pyplot.errorbar.html\" target=\"_blank\"><code>.errorbar()</code></a> function.</li>\n",
    "  </ul>\n",
    "  </font>\n",
    "</div>\n",
    "<br>\n",
    "\n",
    "**Data description:** A netCDF file with hourly tide gauge records from Key West, FL (from 1913 to present). The tide gauge measurements are of relative sea level (RSL), which includes both sea level rise (from ice melt and thermal expansion) and local vertical land motion (from subsidence and isostatic rebound).\n",
    "\n",
    "**Data source:** [University of Hawaii Sea Level Center](https://uhslc.soest.hawaii.edu/datainfo/)"
   ]
  },
  {
   "cell_type": "markdown",
   "id": "19ead475-5519-4cc6-9fce-b039807ba89e",
   "metadata": {
    "tags": []
   },
   "source": [
    "## Step 1: Load the data\n",
    "\n",
    "1. Open the Key West data file using xarray and display it.\n",
    "<div style=\"border: 2px solid teal; padding: 5px; background-color: #f0f8ff; margin-top: 10px; margin-left: 1em; margin-bottom: 10px;\">    \n",
    "<strong><font color='teal'><i>Why? </i></font></strong>&nbsp;<font color='black'>Our data is a netCDF (.nc) file. xarray <a href=\"https://docs.xarray.dev/en/v2023.08.0/generated/xarray.open_dataset.html\" target=\"_blank\"><code>open_dataset()</code></a> is usually the easiest way to open .nc files.</font>\n",
    "</div>\n",
    "2. Convert the data file to a pandas `DataFrame`.\n",
    "<div style=\"border: 2px solid teal; padding: 5px; background-color: #f0f8ff; margin-top: 10px; margin-left: 1em; margin-bottom: 10px;\">    \n",
    "<strong><font color='teal'><i>Why? </i></font></strong>&nbsp;<font color='black'>After opening, we see that the data has two dimensions: <code>time: 979146</code> and <code>record_id: 4</code>. From the xarray metadata, we see that the data is primarily 1-D in time, as <code>record_id</code> is just a station identifier. It is easier to work with 1-D data in pandas than in xarray, so we convert the data to a pandas <code>DataFrame</code> object using the xarray <a href=\"https://docs.xarray.dev/en/v2023.08.0/generated/xarray.DataArray.to_dataframe.html\" ><code>.to_dataframe()</code></a> function.</font>\n",
    "</div>\n",
    "3. Extract the sea level time series from Key West, FL, as a pandas `Series` and display it. (Hint: drop the `record_id` index level!)\n",
    "<div style=\"border: 2px solid teal; padding: 5px; background-color: #f0f8ff; margin-top: 10px; margin-left: 1em; margin-bottom: 10px;\">    \n",
    "<strong><font color='teal'><i>Why? </i></font></strong>&nbsp; <font color='black'>Our data has been converted to a <code>DataFrame</code> with a <code>MultiIndex</code> (multidimensional index). While we could use the <code>record_id</code> index to subset our data, we see that there is a <code>station_name</code> variable that will be easier to subset with, so we can go ahead and drop the <code>record_id</code> index using <a href=\"https://docs.xarray.dev/en/v2023.08.0/generated/xarray.DataArray.to_dataframe.html\" ><code>.droplevel()</code></a>. We then use <a href=\"https://pandas.pydata.org/pandas-docs/version/2.0/reference/api/pandas.DataFrame.loc.html\" ><code>.loc[]</code></a> to select just the rows with data from Key West, FL. Finally, we extract just the <code>sea_level</code> column, which contains our actual data.</font>\n",
    "</div>"
   ]
  },
  {
   "cell_type": "code",
   "execution_count": 6,
   "id": "79106018-8f48-42b3-8c02-d036f16b7408",
   "metadata": {
    "tags": []
   },
   "outputs": [],
   "source": [
    "# set the filepath \n",
    "filepath = \"data/tide_gauges.nc\"\n",
    "\n",
    "# load the data"
   ]
  },
  {
   "cell_type": "markdown",
   "id": "f754fa86-ea23-4495-a6cf-fe5602e1dc17",
   "metadata": {
    "tags": []
   },
   "source": [
    "## Step 2: Plot the time series from Key West\n",
    "1. Plot the sea level time series data using `matplotlib`. We'll build off this figure in future steps, so make sure to follow best figure practices.\n",
    "\n",
    "<div style=\"border: 2px solid teal; padding: 10px; background-color: #f0f8ff; margin-top: 10px;\">\n",
    "  <strong><font color='teal'><i>Why? </i></font></strong>&nbsp;<font color='black'>Data exploration. Visualizing the data helps us answer important questions such as:<br>\n",
    "  <ul>\n",
    "    <li>How much data do we have, and is any data missing?</li>\n",
    "    <li>Are there any obvious patterns, trends, or outliers?</li>\n",
    "    <li>What data cleaning steps might be necessary before analysis?</li>\n",
    "  </ul>\n",
    "    </font>\n",
    "</div>"
   ]
  },
  {
   "cell_type": "code",
   "execution_count": 7,
   "id": "c6ee0193-7cc0-41c2-ae59-ebd68c321e2a",
   "metadata": {
    "tags": []
   },
   "outputs": [],
   "source": [
    "# plot the time series"
   ]
  },
  {
   "cell_type": "markdown",
   "id": "4db52442-47a5-4246-aa4d-ff066909a6f4",
   "metadata": {
    "tags": []
   },
   "source": [
    "## Step 3: Calculate annual averages using `.resample()`\n",
    "1. Calculate the annual means from the time series using <a href=\"https://pandas.pydata.org/pandas-docs/version/2.0/reference/api/pandas.Series.resample.html\" target=\"_blank\">`.resample()`</a>.\n",
    "    - <a href=\"https://pandas.pydata.org/pandas-docs/stable/user_guide/timeseries.html#offset-aliases\">Offset aliases</a> in pandas. Use this to set the new frequency.\n",
    "2. Save the resampled data as a new variable named `key_west_annual`. Display it to make sure that it worked.\n",
    "3. Create a figure comparing the original time series and the resampled annual averages.\n",
    "\n",
    "<div style=\"border: 2px solid teal; padding: 10px; background-color: #f0f8ff; margin-top: 10px;\">\n",
    "  <strong><font color='teal'><i>Why? </i></font></strong>&nbsp;<font color='black'>At its current hourly resolution, the data shows strong fluctuations that obscure variability at longer scales (annual, interannual, etc). <i><strong>Resampling</strong></i> a time series means changing the time intervals between data points (i.e., adjusting the frequency). In this case, we'll resample the data to annual resolution to smooth the data so that we can better identify longer-term patterns.</font>\n",
    "</div>"
   ]
  },
  {
   "cell_type": "code",
   "execution_count": 8,
   "id": "59c08879-d97d-41ba-959b-c4ccb21950d7",
   "metadata": {
    "tags": []
   },
   "outputs": [],
   "source": [
    "# resample to annual resolution"
   ]
  },
  {
   "cell_type": "code",
   "execution_count": 16,
   "id": "05d62ec1-f7e2-4f82-8d76-10e0492beed6",
   "metadata": {
    "tags": []
   },
   "outputs": [],
   "source": [
    "# copy and paste our figure from before, then add to it"
   ]
  },
  {
   "cell_type": "markdown",
   "id": "d57181e7-3f35-4d17-9cb2-13d4bf226602",
   "metadata": {
    "tags": []
   },
   "source": [
    "## Step 4: Calculate decadal averages\n",
    "\n",
    "1. Explore different methods of calculating decadal averages from the annual means.\n",
    "    - **Option 1:** Use <a href=\"https://pandas.pydata.org/pandas-docs/version/2.0/reference/api/pandas.Series.resample.html\" target=\"_blank\">`.resample()`</a> to calculate averages over 10-year intervals, starting from the first year of data.\n",
    "    - **Option 2:** Use <a href=\"https://pandas.pydata.org/pandas-docs/version/2.0/reference/api/pandas.Series.groupby.html\" target=\"_blank\"><code>.groupby()</code></a> to calculate averages over traditional calendar decades (e.g. 1920-29).\n",
    "    - **Option 3:** Use <a href=\"https://pandas.pydata.org/pandas-docs/version/2.0/reference/api/pandas.Series.rolling.html\" target=\"_blank\">`.rolling()`</a> to calculate continuous 10-year moving averages.\n",
    "2. Store the results as new variables named `kw_10yr_resample`, `kw_10yr_groupby`, and `kw_10yr_rolling`.\n",
    "3. Compare these methods by adding the results to the plot from Step 3. (Tip: Hide the original hourly observations to improve loading speed.)\n",
    "\n",
    "<div style=\"border: 2px solid teal; padding: 10px; background-color: #f0f8ff; margin-top: 10px;\">\n",
    "  <strong><font color='teal'><i>Why? </i></font></strong>&nbsp;<font color='black'>The annual time series smooths the original hourly data but still contains year-to-year noise. To better observe long-term trends, we'll smooth to a decadal (10 year) scale. There are several approaches one could take using <code>pandas</code> depending on the desired format of the result. We'll practice using each of the methods separately and then compare the results.</font>\n",
    "</div>"
   ]
  },
  {
   "cell_type": "markdown",
   "id": "62cddb7e-4ecf-41fe-9ec4-02558d75e117",
   "metadata": {},
   "source": [
    "### **Option 1:** Use <a href=\"https://pandas.pydata.org/pandas-docs/version/2.0/reference/api/pandas.Series.resample.html\" target=\"_blank\">`.resample()`</a> to calculate averages over 10-year intervals\n",
    "\n",
    "<font color='black'>&nbsp;&nbsp;&nbsp;&nbsp;&nbsp;&nbsp;&#9654;&nbsp;Check out <a href=\"https://www.youtube.com/embed/ONlUxMi0Qjk\">this video</a> for a visualization of resampling from 1-year to 10-year resolution.</font>"
   ]
  },
  {
   "cell_type": "code",
   "execution_count": 11,
   "id": "cface6dc-6379-4c71-aa95-f3fa063b62e5",
   "metadata": {
    "tags": []
   },
   "outputs": [],
   "source": [
    "# resample like we did before, this time to 10 year frequency"
   ]
  },
  {
   "cell_type": "markdown",
   "id": "6b1264ed-146d-4ac7-bffe-12edfb18eab0",
   "metadata": {
    "tags": []
   },
   "source": [
    "### **Option 2:** Use <a href=\"https://pandas.pydata.org/pandas-docs/version/2.0/reference/api/pandas.Series.groupby.html\" target=\"_blank\"><code>.groupby()</code></a> to calculate averages over traditional calendar decades\n",
    "<div style=\"border: 2px solid teal; padding: 10px; background-color: #f0f8ff; margin-top: 10px;\">\n",
    "  <strong><font color='teal'>What does \"groupby\" mean?</font></strong><br><font color='black'>From the <a href=\"https://pandas.pydata.org/docs/user_guide/groupby.html\" target=\"_blank\">documentation</a>, <strong>\"group by\"</strong> refers to a three-step process:\n",
    "  <ol>\n",
    "    <li><strong>Split</strong> the data into groups based on some criteria.</li>\n",
    "    <li><strong>Apply</strong> a function to each group independently.</li>\n",
    "    <li><strong>Combine</strong> the results into a data structure.</li>\n",
    "  </ol>\n",
    "  \n",
    "  Here’s how the split-apply-combine approach translates to our case:\n",
    "  <ol>\n",
    "    <li>Split the data into groups by calendar decade using using <code>.groupby()<code></li>\n",
    "    <li>Apply the <code>.mean()</code> function to each decade group.</li>\n",
    "    <li>Combine the decadal means by saving them in a new <code>Series</code> object</li>\n",
    "  </ol>\n",
    "        All three steps can be done together in one line of code!</font>\n",
    "</div>\n",
    "\n",
    "1. Create an `Index` or `Series` that contains the corresponding calendar decade for each row in `key_west_annual`.\n",
    "    - _Tip: Each year within a calendar decade starts with the same three digits (e.g. each year in 1920-29 begins with 192). How would you extract just the first three digits from a 4-digit number?_\n",
    "2. Use the index to define a GroupBy object that groups each row in `key_west_annual` into its corresponding calendar decade.\n",
    "3. Use <a href=\"https://pandas.pydata.org/pandas-docs/version/2.0/reference/api/pandas.DataFrame.describe.html\">`.describe()`</a> to view the statistics for each group.\n",
    "<div style=\"border: 2px solid teal; padding: 5px; background-color: #f0f8ff; margin-top: 10px; margin-left: 1em; margin-bottom: 10px;\">    \n",
    "<strong><font color='teal'><i>Why? </i></font></strong>&nbsp;<font color='black'>When using <code>.resample()</code>, we saw that all groups except the last one contained 10 years of data. We can use <code>.describe()</code> to check how many years are in each group after using <code>.groupby()</code> for comparison.</font>\n",
    "</div>\n",
    "\n",
    "4. Calculate the decadal means using <code>.mean()</code> on the GroupBy object.\n",
    "5. Store the decadal means in a new <code>Series</code> object named `kw_10yr_groupby`.\n",
    "6. Convert the index for <code>kw_10yr_groupby</code> back to a `DatetimeIndex` using the pandas function <a href=\"https://pandas.pydata.org/pandas-docs/version/2.0/reference/api/pandas.to_datetime.html\">`to_datetime()`</a> \n",
    "<div style=\"border: 2px solid teal; padding: 5px; background-color: #f0f8ff; margin-top: 10px; margin-left: 1em; margin-bottom: 10px;\">    \n",
    "    <strong><font color='teal'><i>Why? </i></font></strong>&nbsp; <font color='black'><code>key_west_annual</code> has a <code>DatetimeIndex</code>. Extracting the year attribute from the index (<code>key_west_annual.index.year</code>) outputs an <code>Index</code> object (not <code>DatetimeIndex</code>) because the years are just integers. Converting the index back to a <code>DatetimeIndex</code> is useful for compatiblity when plotting with our other time series.</font>\n",
    "</div>"
   ]
  },
  {
   "cell_type": "code",
   "execution_count": 12,
   "id": "09ad32e7-2548-4d84-aa30-a7ce57c5c247",
   "metadata": {
    "tags": []
   },
   "outputs": [],
   "source": [
    "# 1:\n",
    "\n",
    "# 2:\n",
    "\n",
    "# 3:\n",
    "\n",
    "# 4:\n",
    "\n",
    "# 5:\n",
    "\n",
    "# 6:\n"
   ]
  },
  {
   "cell_type": "markdown",
   "id": "45cb32b2-8ca6-46ac-b134-6ac6d3d23d2c",
   "metadata": {},
   "source": [
    "### **Option 3:** Use <a href=\"https://pandas.pydata.org/pandas-docs/version/2.0/reference/api/pandas.Series.rolling.html\" target=\"_blank\">`.rolling()`</a> to calculate continuous 10-year moving averages\n",
    "\n",
    "<div style=\"border: 2px solid teal; padding: 10px; background-color: #f0f8ff; margin-top: 10px;\">\n",
    "  <strong><font color='teal'>What is a \"rolling\" mean?</font></strong><br>\n",
    "    <font color='black'>A <strong><i>rolling mean</i></strong> (or moving average) smooths time series data by calculating the average within a <i>sliding</i> window of fixed size. The window shifts forward one timestep at a time, recalculating the mean based only on the values within the current window. Adjacent windows overlap, with each new window sharing most of the previous window’s data points (9/10 years in the case of a 10-year window). <br> &nbsp;&nbsp;&nbsp;&nbsp;&nbsp;&nbsp;&#9654;&nbsp;Check out <a href=\"https://www.youtube.com/embed/q5qCnlptkTc\">this video</a> for a visualization of 10-year rolling mean.\n",
    "    </font>\n",
    "</div>\n"
   ]
  },
  {
   "cell_type": "code",
   "execution_count": 14,
   "id": "78f592ae-725f-4b71-a021-8c69f10e5f04",
   "metadata": {
    "tags": []
   },
   "outputs": [],
   "source": [
    "# calculate 10-year rolling means\n"
   ]
  },
  {
   "cell_type": "markdown",
   "id": "0cf9a5d7-5c20-444b-a93a-f5cb5fba502b",
   "metadata": {
    "tags": []
   },
   "source": [
    "### Compare all three methods by plotting on our figure\n",
    "\n",
    "Add `kw_10yr_resample`, `kw_10yr_groupby`, and `kw_10yr_rolling` to our figure from before.\n",
    "\n",
    "Tip: You'll want to apply a 5-year offset to the indices for `kw_10yr_resample` and `kw_10yr_groupby` using <a href=\"https://pandas.pydata.org/pandas-docs/version/2.0/reference/api/pandas.tseries.offsets.DateOffset.html\">`pd.DateOffset(years=5)`</a>. <strong><font color='teal'>Why?</font></strong><br>"
   ]
  },
  {
   "cell_type": "code",
   "execution_count": 15,
   "id": "391a8e6b-9819-41b6-bf5a-d58c4e8ab50a",
   "metadata": {
    "tags": []
   },
   "outputs": [],
   "source": [
    "# copy and paste our figure from before, then add to it\n",
    "\n",
    "\n",
    "# save to file\n"
   ]
  },
  {
   "cell_type": "markdown",
   "id": "064c2c95-bc79-4941-b626-500289a26ce5",
   "metadata": {},
   "source": [
    "## Step 5 (if time): Add error bars to decadal means"
   ]
  },
  {
   "cell_type": "code",
   "execution_count": 17,
   "id": "8f02e33f-a916-4287-991f-e123b713bbfd",
   "metadata": {
    "tags": []
   },
   "outputs": [],
   "source": [
    "# Recall that when we we used groupby(), we saw standard deviation as well as mean\n"
   ]
  },
  {
   "cell_type": "code",
   "execution_count": 18,
   "id": "4758366b-7fb1-456f-abe9-a92c8153ffa7",
   "metadata": {
    "tags": []
   },
   "outputs": [],
   "source": [
    "# copy and paste our figure from before, then add to it\n"
   ]
  }
 ],
 "metadata": {
  "kernelspec": {
   "display_name": "Python 3 (ipykernel)",
   "language": "python",
   "name": "python3"
  },
  "language_info": {
   "codemirror_mode": {
    "name": "ipython",
    "version": 3
   },
   "file_extension": ".py",
   "mimetype": "text/x-python",
   "name": "python",
   "nbconvert_exporter": "python",
   "pygments_lexer": "ipython3",
   "version": "3.10.10"
  }
 },
 "nbformat": 4,
 "nbformat_minor": 5
}
